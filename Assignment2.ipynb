{
 "cells": [
  {
   "cell_type": "code",
   "execution_count": 1,
   "metadata": {},
   "outputs": [],
   "source": [
    "# used in Data processing\n",
    "import pandas as pd\n",
    "import numpy as np\n",
    "import datetime as dt\n",
    "\n",
    "# Visualization libraries\n",
    "import seaborn as sns\n",
    "import matplotlib.pyplot as plt\n",
    "from math import sin, cos, sqrt, atan2, radians\n",
    "%matplotlib inline"
   ]
  },
  {
   "cell_type": "code",
   "execution_count": 2,
   "metadata": {},
   "outputs": [],
   "source": [
    " # Machine Learning\n",
    "from sklearn.model_selection import train_test_split\n",
    "\n",
    "from pandas.tseries.holiday import USFederalHolidayCalendar\n",
    "\n",
    "# loads data frame\n",
    "df = pd.read_csv(\"train.csv\",nrows = 50_00_000)"
   ]
  },
  {
   "cell_type": "code",
   "execution_count": 3,
   "metadata": {},
   "outputs": [
    {
     "data": {
      "text/html": [
       "<div>\n",
       "<style scoped>\n",
       "    .dataframe tbody tr th:only-of-type {\n",
       "        vertical-align: middle;\n",
       "    }\n",
       "\n",
       "    .dataframe tbody tr th {\n",
       "        vertical-align: top;\n",
       "    }\n",
       "\n",
       "    .dataframe thead th {\n",
       "        text-align: right;\n",
       "    }\n",
       "</style>\n",
       "<table border=\"1\" class=\"dataframe\">\n",
       "  <thead>\n",
       "    <tr style=\"text-align: right;\">\n",
       "      <th></th>\n",
       "      <th>fare_amount</th>\n",
       "      <th>pickup_longitude</th>\n",
       "      <th>pickup_latitude</th>\n",
       "      <th>dropoff_longitude</th>\n",
       "      <th>dropoff_latitude</th>\n",
       "      <th>passenger_count</th>\n",
       "    </tr>\n",
       "  </thead>\n",
       "  <tbody>\n",
       "    <tr>\n",
       "      <th>count</th>\n",
       "      <td>5.000000e+06</td>\n",
       "      <td>5.000000e+06</td>\n",
       "      <td>5.000000e+06</td>\n",
       "      <td>4.999964e+06</td>\n",
       "      <td>4.999964e+06</td>\n",
       "      <td>5.000000e+06</td>\n",
       "    </tr>\n",
       "    <tr>\n",
       "      <th>mean</th>\n",
       "      <td>1.134080e+01</td>\n",
       "      <td>-7.250678e+01</td>\n",
       "      <td>3.991974e+01</td>\n",
       "      <td>-7.250652e+01</td>\n",
       "      <td>3.991725e+01</td>\n",
       "      <td>1.684695e+00</td>\n",
       "    </tr>\n",
       "    <tr>\n",
       "      <th>std</th>\n",
       "      <td>9.820175e+00</td>\n",
       "      <td>1.280970e+01</td>\n",
       "      <td>8.963509e+00</td>\n",
       "      <td>1.284777e+01</td>\n",
       "      <td>9.486767e+00</td>\n",
       "      <td>1.331854e+00</td>\n",
       "    </tr>\n",
       "    <tr>\n",
       "      <th>min</th>\n",
       "      <td>-1.000000e+02</td>\n",
       "      <td>-3.426609e+03</td>\n",
       "      <td>-3.488080e+03</td>\n",
       "      <td>-3.412653e+03</td>\n",
       "      <td>-3.488080e+03</td>\n",
       "      <td>0.000000e+00</td>\n",
       "    </tr>\n",
       "    <tr>\n",
       "      <th>25%</th>\n",
       "      <td>6.000000e+00</td>\n",
       "      <td>-7.399206e+01</td>\n",
       "      <td>4.073491e+01</td>\n",
       "      <td>-7.399139e+01</td>\n",
       "      <td>4.073404e+01</td>\n",
       "      <td>1.000000e+00</td>\n",
       "    </tr>\n",
       "    <tr>\n",
       "      <th>50%</th>\n",
       "      <td>8.500000e+00</td>\n",
       "      <td>-7.398181e+01</td>\n",
       "      <td>4.075263e+01</td>\n",
       "      <td>-7.398016e+01</td>\n",
       "      <td>4.075315e+01</td>\n",
       "      <td>1.000000e+00</td>\n",
       "    </tr>\n",
       "    <tr>\n",
       "      <th>75%</th>\n",
       "      <td>1.250000e+01</td>\n",
       "      <td>-7.396711e+01</td>\n",
       "      <td>4.076712e+01</td>\n",
       "      <td>-7.396367e+01</td>\n",
       "      <td>4.076811e+01</td>\n",
       "      <td>2.000000e+00</td>\n",
       "    </tr>\n",
       "    <tr>\n",
       "      <th>max</th>\n",
       "      <td>1.273310e+03</td>\n",
       "      <td>3.439426e+03</td>\n",
       "      <td>3.310364e+03</td>\n",
       "      <td>3.457622e+03</td>\n",
       "      <td>3.345917e+03</td>\n",
       "      <td>2.080000e+02</td>\n",
       "    </tr>\n",
       "  </tbody>\n",
       "</table>\n",
       "</div>"
      ],
      "text/plain": [
       "        fare_amount  pickup_longitude  pickup_latitude  dropoff_longitude  \\\n",
       "count  5.000000e+06      5.000000e+06     5.000000e+06       4.999964e+06   \n",
       "mean   1.134080e+01     -7.250678e+01     3.991974e+01      -7.250652e+01   \n",
       "std    9.820175e+00      1.280970e+01     8.963509e+00       1.284777e+01   \n",
       "min   -1.000000e+02     -3.426609e+03    -3.488080e+03      -3.412653e+03   \n",
       "25%    6.000000e+00     -7.399206e+01     4.073491e+01      -7.399139e+01   \n",
       "50%    8.500000e+00     -7.398181e+01     4.075263e+01      -7.398016e+01   \n",
       "75%    1.250000e+01     -7.396711e+01     4.076712e+01      -7.396367e+01   \n",
       "max    1.273310e+03      3.439426e+03     3.310364e+03       3.457622e+03   \n",
       "\n",
       "       dropoff_latitude  passenger_count  \n",
       "count      4.999964e+06     5.000000e+06  \n",
       "mean       3.991725e+01     1.684695e+00  \n",
       "std        9.486767e+00     1.331854e+00  \n",
       "min       -3.488080e+03     0.000000e+00  \n",
       "25%        4.073404e+01     1.000000e+00  \n",
       "50%        4.075315e+01     1.000000e+00  \n",
       "75%        4.076811e+01     2.000000e+00  \n",
       "max        3.345917e+03     2.080000e+02  "
      ]
     },
     "execution_count": 3,
     "metadata": {},
     "output_type": "execute_result"
    }
   ],
   "source": [
    "# check statistics of the given parameters\n",
    "df.describe()"
   ]
  },
  {
   "cell_type": "code",
   "execution_count": 4,
   "metadata": {},
   "outputs": [
    {
     "data": {
      "text/plain": [
       "(5000000, 8)"
      ]
     },
     "execution_count": 4,
     "metadata": {},
     "output_type": "execute_result"
    }
   ],
   "source": [
    "df.shape"
   ]
  },
  {
   "cell_type": "code",
   "execution_count": 5,
   "metadata": {},
   "outputs": [
    {
     "data": {
      "text/html": [
       "<div>\n",
       "<style scoped>\n",
       "    .dataframe tbody tr th:only-of-type {\n",
       "        vertical-align: middle;\n",
       "    }\n",
       "\n",
       "    .dataframe tbody tr th {\n",
       "        vertical-align: top;\n",
       "    }\n",
       "\n",
       "    .dataframe thead th {\n",
       "        text-align: right;\n",
       "    }\n",
       "</style>\n",
       "<table border=\"1\" class=\"dataframe\">\n",
       "  <thead>\n",
       "    <tr style=\"text-align: right;\">\n",
       "      <th></th>\n",
       "      <th>key</th>\n",
       "      <th>fare_amount</th>\n",
       "      <th>pickup_datetime</th>\n",
       "      <th>pickup_longitude</th>\n",
       "      <th>pickup_latitude</th>\n",
       "      <th>dropoff_longitude</th>\n",
       "      <th>dropoff_latitude</th>\n",
       "      <th>passenger_count</th>\n",
       "    </tr>\n",
       "  </thead>\n",
       "  <tbody>\n",
       "    <tr>\n",
       "      <th>0</th>\n",
       "      <td>2009-06-15 17:26:21.0000001</td>\n",
       "      <td>4.5</td>\n",
       "      <td>2009-06-15 17:26:21 UTC</td>\n",
       "      <td>-73.844311</td>\n",
       "      <td>40.721319</td>\n",
       "      <td>-73.841610</td>\n",
       "      <td>40.712278</td>\n",
       "      <td>1</td>\n",
       "    </tr>\n",
       "    <tr>\n",
       "      <th>1</th>\n",
       "      <td>2010-01-05 16:52:16.0000002</td>\n",
       "      <td>16.9</td>\n",
       "      <td>2010-01-05 16:52:16 UTC</td>\n",
       "      <td>-74.016048</td>\n",
       "      <td>40.711303</td>\n",
       "      <td>-73.979268</td>\n",
       "      <td>40.782004</td>\n",
       "      <td>1</td>\n",
       "    </tr>\n",
       "    <tr>\n",
       "      <th>2</th>\n",
       "      <td>2011-08-18 00:35:00.00000049</td>\n",
       "      <td>5.7</td>\n",
       "      <td>2011-08-18 00:35:00 UTC</td>\n",
       "      <td>-73.982738</td>\n",
       "      <td>40.761270</td>\n",
       "      <td>-73.991242</td>\n",
       "      <td>40.750562</td>\n",
       "      <td>2</td>\n",
       "    </tr>\n",
       "    <tr>\n",
       "      <th>3</th>\n",
       "      <td>2012-04-21 04:30:42.0000001</td>\n",
       "      <td>7.7</td>\n",
       "      <td>2012-04-21 04:30:42 UTC</td>\n",
       "      <td>-73.987130</td>\n",
       "      <td>40.733143</td>\n",
       "      <td>-73.991567</td>\n",
       "      <td>40.758092</td>\n",
       "      <td>1</td>\n",
       "    </tr>\n",
       "    <tr>\n",
       "      <th>4</th>\n",
       "      <td>2010-03-09 07:51:00.000000135</td>\n",
       "      <td>5.3</td>\n",
       "      <td>2010-03-09 07:51:00 UTC</td>\n",
       "      <td>-73.968095</td>\n",
       "      <td>40.768008</td>\n",
       "      <td>-73.956655</td>\n",
       "      <td>40.783762</td>\n",
       "      <td>1</td>\n",
       "    </tr>\n",
       "  </tbody>\n",
       "</table>\n",
       "</div>"
      ],
      "text/plain": [
       "                             key  fare_amount          pickup_datetime  \\\n",
       "0    2009-06-15 17:26:21.0000001          4.5  2009-06-15 17:26:21 UTC   \n",
       "1    2010-01-05 16:52:16.0000002         16.9  2010-01-05 16:52:16 UTC   \n",
       "2   2011-08-18 00:35:00.00000049          5.7  2011-08-18 00:35:00 UTC   \n",
       "3    2012-04-21 04:30:42.0000001          7.7  2012-04-21 04:30:42 UTC   \n",
       "4  2010-03-09 07:51:00.000000135          5.3  2010-03-09 07:51:00 UTC   \n",
       "\n",
       "   pickup_longitude  pickup_latitude  dropoff_longitude  dropoff_latitude  \\\n",
       "0        -73.844311        40.721319         -73.841610         40.712278   \n",
       "1        -74.016048        40.711303         -73.979268         40.782004   \n",
       "2        -73.982738        40.761270         -73.991242         40.750562   \n",
       "3        -73.987130        40.733143         -73.991567         40.758092   \n",
       "4        -73.968095        40.768008         -73.956655         40.783762   \n",
       "\n",
       "   passenger_count  \n",
       "0                1  \n",
       "1                1  \n",
       "2                2  \n",
       "3                1  \n",
       "4                1  "
      ]
     },
     "execution_count": 5,
     "metadata": {},
     "output_type": "execute_result"
    }
   ],
   "source": [
    "# Let's see the first 5 rows of our training data\n",
    "df.head(5)"
   ]
  },
  {
   "cell_type": "code",
   "execution_count": 6,
   "metadata": {},
   "outputs": [
    {
     "data": {
      "text/plain": [
       "key                   0\n",
       "fare_amount           0\n",
       "pickup_datetime       0\n",
       "pickup_longitude      0\n",
       "pickup_latitude       0\n",
       "dropoff_longitude    36\n",
       "dropoff_latitude     36\n",
       "passenger_count       0\n",
       "dtype: int64"
      ]
     },
     "execution_count": 6,
     "metadata": {},
     "output_type": "execute_result"
    }
   ],
   "source": [
    "# checking how many rows contain atleast a blank entry in it.\n",
    "df.isna().sum()"
   ]
  },
  {
   "cell_type": "code",
   "execution_count": 7,
   "metadata": {},
   "outputs": [],
   "source": [
    "# data set contains some null entries. Removing them from the dataset\n",
    "df = df.dropna()"
   ]
  },
  {
   "cell_type": "code",
   "execution_count": 8,
   "metadata": {},
   "outputs": [],
   "source": [
    "#df.shape"
   ]
  },
  {
   "cell_type": "code",
   "execution_count": 9,
   "metadata": {},
   "outputs": [],
   "source": [
    "# Now remove some of the outliers\n",
    "# Plot the histogram of passenger_count\n",
    "#plt.hist(df['passenger_count'], bins=np.arange(0, 10))"
   ]
  },
  {
   "cell_type": "code",
   "execution_count": 10,
   "metadata": {},
   "outputs": [],
   "source": [
    "#Passengers count should range from 1 to 7, rest all are outliers let's remove them\n",
    "df = df[(df.passenger_count > 0) & (df.passenger_count < 8)]"
   ]
  },
  {
   "cell_type": "code",
   "execution_count": 11,
   "metadata": {},
   "outputs": [
    {
     "data": {
      "text/plain": [
       "(4982350, 8)"
      ]
     },
     "execution_count": 11,
     "metadata": {},
     "output_type": "execute_result"
    }
   ],
   "source": [
    "df.shape"
   ]
  },
  {
   "cell_type": "code",
   "execution_count": 12,
   "metadata": {},
   "outputs": [
    {
     "data": {
      "text/plain": [
       "<matplotlib.axes._subplots.AxesSubplot at 0x1a141b46a0>"
      ]
     },
     "execution_count": 12,
     "metadata": {},
     "output_type": "execute_result"
    },
    {
     "data": {
      "image/png": "[encoded data removed]",
      "text/plain": [
       "<Figure size 1008x216 with 1 Axes>"
      ]
     },
     "metadata": {},
     "output_type": "display_data"
    }
   ],
   "source": [
    "# Lets consider the histogram of fare_amount\n",
    "df[df.fare_amount<500].fare_amount.hist(bins=100, figsize=(14,3))"
   ]
  },
  {
   "cell_type": "code",
   "execution_count": 13,
   "metadata": {},
   "outputs": [
    {
     "data": {
      "text/plain": [
       "(4982350, 8)"
      ]
     },
     "execution_count": 13,
     "metadata": {},
     "output_type": "execute_result"
    }
   ],
   "source": [
    "df.shape"
   ]
  },
  {
   "cell_type": "code",
   "execution_count": 14,
   "metadata": {},
   "outputs": [],
   "source": [
    "# As we can see we have outliers for fare_amount > 60. Remove them from data set\n",
    "df = df[(df.fare_amount > 0) & (df.fare_amount <= 60)]"
   ]
  },
  {
   "cell_type": "code",
   "execution_count": 15,
   "metadata": {},
   "outputs": [
    {
     "data": {
      "text/plain": [
       "(4968604, 8)"
      ]
     },
     "execution_count": 15,
     "metadata": {},
     "output_type": "execute_result"
    }
   ],
   "source": [
    "df.shape"
   ]
  },
  {
   "cell_type": "code",
   "execution_count": 16,
   "metadata": {},
   "outputs": [],
   "source": [
    "# Now we now that new york city had latitude around 40.71 and longitude around -74.00 (reference : http://latitudelongitude.org/us/new-york-city/).\n",
    "# So taking a rough estimate remove outliers out of range\n",
    "df = df[(df.pickup_longitude > -75) & (df.pickup_longitude < -70)]\n",
    "df = df[(df.dropoff_longitude > -75) & (df.dropoff_longitude < -70)]\n",
    "df = df[(df.pickup_latitude > 38) & (df.pickup_latitude < 43)]\n",
    "df = df[(df.dropoff_latitude > 38) & (df.dropoff_latitude < 43)]"
   ]
  },
  {
   "cell_type": "code",
   "execution_count": 17,
   "metadata": {},
   "outputs": [
    {
     "data": {
      "text/plain": [
       "(4865432, 8)"
      ]
     },
     "execution_count": 17,
     "metadata": {},
     "output_type": "execute_result"
    }
   ],
   "source": [
    "df.shape"
   ]
  },
  {
   "cell_type": "code",
   "execution_count": 18,
   "metadata": {},
   "outputs": [
    {
     "data": {
      "text/plain": [
       "<matplotlib.axes._subplots.AxesSubplot at 0x1a16127e48>"
      ]
     },
     "execution_count": 18,
     "metadata": {},
     "output_type": "execute_result"
    },
    {
     "data": {
      "image/png": "[encoded data removed]",
      "text/plain": [
       "<Figure size 432x288 with 1 Axes>"
      ]
     },
     "metadata": {},
     "output_type": "display_data"
    }
   ],
   "source": [
    "#Plotting scatter plot of longitude and latitude\n",
    "df.plot(kind='scatter',x='pickup_longitude',y='pickup_latitude',c='blue',s=0.2,alpha=.6)"
   ]
  },
  {
   "cell_type": "code",
   "execution_count": 19,
   "metadata": {},
   "outputs": [],
   "source": [
    "# Remove more outliers of latitude and longitude\n",
    "df = df[(df.pickup_longitude > -74.30) & (df.pickup_longitude < -73.00)]\n",
    "df = df[(df.dropoff_longitude > -74.30) & (df.dropoff_longitude < -73.00)]\n",
    "df = df[(df.pickup_latitude > 40.40) & (df.pickup_latitude < 41.71)]\n",
    "df = df[(df.dropoff_latitude > 40.40) & (df.dropoff_latitude < 41.71)]"
   ]
  },
  {
   "cell_type": "code",
   "execution_count": 20,
   "metadata": {},
   "outputs": [
    {
     "data": {
      "text/plain": [
       "(4863823, 8)"
      ]
     },
     "execution_count": 20,
     "metadata": {},
     "output_type": "execute_result"
    }
   ],
   "source": [
    "df.shape"
   ]
  },
  {
   "cell_type": "code",
   "execution_count": 21,
   "metadata": {},
   "outputs": [
    {
     "data": {
      "text/plain": [
       "<matplotlib.axes._subplots.AxesSubplot at 0x1a14da6cc0>"
      ]
     },
     "execution_count": 21,
     "metadata": {},
     "output_type": "execute_result"
    },
    {
     "data": {
      "image/png": "[encoded data removed]",
      "text/plain": [
       "<Figure size 432x288 with 1 Axes>"
      ]
     },
     "metadata": {},
     "output_type": "display_data"
    }
   ],
   "source": [
    "df.plot(kind='scatter',x='pickup_longitude',y='pickup_latitude',c='blue',s=0.2,alpha=.6)"
   ]
  },
  {
   "cell_type": "code",
   "execution_count": 22,
   "metadata": {},
   "outputs": [],
   "source": [
    "# Remove more outliers of latitude and longitude\n",
    "df = df[(df.pickup_longitude > -74.05) & (df.pickup_longitude < -73.75)]\n",
    "df = df[(df.dropoff_longitude > -74.05) & (df.dropoff_longitude < -73.75)]\n",
    "df = df[(df.pickup_latitude > 40.55) & (df.pickup_latitude < 40.85)]\n",
    "df = df[(df.dropoff_latitude > 40.55) & (df.dropoff_latitude < 40.85)]"
   ]
  },
  {
   "cell_type": "code",
   "execution_count": 23,
   "metadata": {},
   "outputs": [
    {
     "data": {
      "text/plain": [
       "<matplotlib.axes._subplots.AxesSubplot at 0x112b78e10>"
      ]
     },
     "execution_count": 23,
     "metadata": {},
     "output_type": "execute_result"
    },
    {
     "data": {
      "image/png": "[encoded data removed]",
      "text/plain": [
       "<Figure size 432x288 with 1 Axes>"
      ]
     },
     "metadata": {},
     "output_type": "display_data"
    }
   ],
   "source": [
    "df.plot(kind='scatter',x='pickup_longitude',y='pickup_latitude',c='blue',s=0.2,alpha=.99)"
   ]
  },
  {
   "cell_type": "code",
   "execution_count": 24,
   "metadata": {},
   "outputs": [],
   "source": [
    "#Lets calculate distance travelled in each trip using HaverSine distance\n",
    "#Reference : https://community.esri.com/groups/coordinate-reference-systems/blog/2017/10/05/haversine-formula\n",
    "def cal_haversinedistance(pickup_lat : float, pickup_long : float, dropoff_lat : float, dropoff_long : float):\n",
    "    R = 6373.0\n",
    "    long_diff = dropoff_long - pickup_long\n",
    "    lat_diff = dropoff_lat - pickup_lat\n",
    "    \n",
    "    a = sin(lat_diff / 2)**2 + cos(pickup_lat) * cos(dropoff_lat) * sin(long_diff / 2)**2\n",
    "    c = 2 * atan2(sqrt(a), sqrt(1 - a))\n",
    "\n",
    "    distance = R * c\n",
    "    return distance"
   ]
  },
  {
   "cell_type": "code",
   "execution_count": 25,
   "metadata": {},
   "outputs": [],
   "source": [
    "def dist_calc(df):\n",
    "    R = 6373.0\n",
    "    \n",
    "    for i,row in df.iterrows():\n",
    "\n",
    "        pickup_lat = radians(row['pickup_latitude'])\n",
    "        pickup_long = radians(row['pickup_longitude'])\n",
    "        dropoff_lat = radians(row['dropoff_latitude'])\n",
    "        dropoff_long = radians(row['dropoff_longitude'])\n",
    "\n",
    "        distance = cal_haversinedistance(pickup_lat, pickup_long, dropoff_lat, dropoff_long)\n",
    "        df.at[i,'distance'] = distance"
   ]
  },
  {
   "cell_type": "code",
   "execution_count": 26,
   "metadata": {},
   "outputs": [],
   "source": [
    "dist_calc(df)"
   ]
  },
  {
   "cell_type": "code",
   "execution_count": 27,
   "metadata": {},
   "outputs": [
    {
     "data": {
      "text/html": [
       "<div>\n",
       "<style scoped>\n",
       "    .dataframe tbody tr th:only-of-type {\n",
       "        vertical-align: middle;\n",
       "    }\n",
       "\n",
       "    .dataframe tbody tr th {\n",
       "        vertical-align: top;\n",
       "    }\n",
       "\n",
       "    .dataframe thead th {\n",
       "        text-align: right;\n",
       "    }\n",
       "</style>\n",
       "<table border=\"1\" class=\"dataframe\">\n",
       "  <thead>\n",
       "    <tr style=\"text-align: right;\">\n",
       "      <th></th>\n",
       "      <th>key</th>\n",
       "      <th>fare_amount</th>\n",
       "      <th>pickup_datetime</th>\n",
       "      <th>pickup_longitude</th>\n",
       "      <th>pickup_latitude</th>\n",
       "      <th>dropoff_longitude</th>\n",
       "      <th>dropoff_latitude</th>\n",
       "      <th>passenger_count</th>\n",
       "      <th>distance</th>\n",
       "    </tr>\n",
       "  </thead>\n",
       "  <tbody>\n",
       "    <tr>\n",
       "      <th>0</th>\n",
       "      <td>2009-06-15 17:26:21.0000001</td>\n",
       "      <td>4.5</td>\n",
       "      <td>2009-06-15 17:26:21 UTC</td>\n",
       "      <td>-73.844311</td>\n",
       "      <td>40.721319</td>\n",
       "      <td>-73.841610</td>\n",
       "      <td>40.712278</td>\n",
       "      <td>1</td>\n",
       "      <td>1.031088</td>\n",
       "    </tr>\n",
       "    <tr>\n",
       "      <th>1</th>\n",
       "      <td>2010-01-05 16:52:16.0000002</td>\n",
       "      <td>16.9</td>\n",
       "      <td>2010-01-05 16:52:16 UTC</td>\n",
       "      <td>-74.016048</td>\n",
       "      <td>40.711303</td>\n",
       "      <td>-73.979268</td>\n",
       "      <td>40.782004</td>\n",
       "      <td>1</td>\n",
       "      <td>8.452786</td>\n",
       "    </tr>\n",
       "    <tr>\n",
       "      <th>2</th>\n",
       "      <td>2011-08-18 00:35:00.00000049</td>\n",
       "      <td>5.7</td>\n",
       "      <td>2011-08-18 00:35:00 UTC</td>\n",
       "      <td>-73.982738</td>\n",
       "      <td>40.761270</td>\n",
       "      <td>-73.991242</td>\n",
       "      <td>40.750562</td>\n",
       "      <td>2</td>\n",
       "      <td>1.389961</td>\n",
       "    </tr>\n",
       "    <tr>\n",
       "      <th>3</th>\n",
       "      <td>2012-04-21 04:30:42.0000001</td>\n",
       "      <td>7.7</td>\n",
       "      <td>2012-04-21 04:30:42 UTC</td>\n",
       "      <td>-73.987130</td>\n",
       "      <td>40.733143</td>\n",
       "      <td>-73.991567</td>\n",
       "      <td>40.758092</td>\n",
       "      <td>1</td>\n",
       "      <td>2.800149</td>\n",
       "    </tr>\n",
       "    <tr>\n",
       "      <th>4</th>\n",
       "      <td>2010-03-09 07:51:00.000000135</td>\n",
       "      <td>5.3</td>\n",
       "      <td>2010-03-09 07:51:00 UTC</td>\n",
       "      <td>-73.968095</td>\n",
       "      <td>40.768008</td>\n",
       "      <td>-73.956655</td>\n",
       "      <td>40.783762</td>\n",
       "      <td>1</td>\n",
       "      <td>1.999784</td>\n",
       "    </tr>\n",
       "  </tbody>\n",
       "</table>\n",
       "</div>"
      ],
      "text/plain": [
       "                             key  fare_amount          pickup_datetime  \\\n",
       "0    2009-06-15 17:26:21.0000001          4.5  2009-06-15 17:26:21 UTC   \n",
       "1    2010-01-05 16:52:16.0000002         16.9  2010-01-05 16:52:16 UTC   \n",
       "2   2011-08-18 00:35:00.00000049          5.7  2011-08-18 00:35:00 UTC   \n",
       "3    2012-04-21 04:30:42.0000001          7.7  2012-04-21 04:30:42 UTC   \n",
       "4  2010-03-09 07:51:00.000000135          5.3  2010-03-09 07:51:00 UTC   \n",
       "\n",
       "   pickup_longitude  pickup_latitude  dropoff_longitude  dropoff_latitude  \\\n",
       "0        -73.844311        40.721319         -73.841610         40.712278   \n",
       "1        -74.016048        40.711303         -73.979268         40.782004   \n",
       "2        -73.982738        40.761270         -73.991242         40.750562   \n",
       "3        -73.987130        40.733143         -73.991567         40.758092   \n",
       "4        -73.968095        40.768008         -73.956655         40.783762   \n",
       "\n",
       "   passenger_count  distance  \n",
       "0                1  1.031088  \n",
       "1                1  8.452786  \n",
       "2                2  1.389961  \n",
       "3                1  2.800149  \n",
       "4                1  1.999784  "
      ]
     },
     "execution_count": 27,
     "metadata": {},
     "output_type": "execute_result"
    }
   ],
   "source": [
    "df.head()"
   ]
  },
  {
   "cell_type": "code",
   "execution_count": 28,
   "metadata": {},
   "outputs": [
    {
     "data": {
      "text/html": [
       "<div>\n",
       "<style scoped>\n",
       "    .dataframe tbody tr th:only-of-type {\n",
       "        vertical-align: middle;\n",
       "    }\n",
       "\n",
       "    .dataframe tbody tr th {\n",
       "        vertical-align: top;\n",
       "    }\n",
       "\n",
       "    .dataframe thead th {\n",
       "        text-align: right;\n",
       "    }\n",
       "</style>\n",
       "<table border=\"1\" class=\"dataframe\">\n",
       "  <thead>\n",
       "    <tr style=\"text-align: right;\">\n",
       "      <th></th>\n",
       "      <th>fare_amount</th>\n",
       "      <th>pickup_longitude</th>\n",
       "      <th>pickup_latitude</th>\n",
       "      <th>dropoff_longitude</th>\n",
       "      <th>dropoff_latitude</th>\n",
       "      <th>passenger_count</th>\n",
       "      <th>distance</th>\n",
       "    </tr>\n",
       "  </thead>\n",
       "  <tbody>\n",
       "    <tr>\n",
       "      <th>count</th>\n",
       "      <td>4.827651e+06</td>\n",
       "      <td>4.827651e+06</td>\n",
       "      <td>4.827651e+06</td>\n",
       "      <td>4.827651e+06</td>\n",
       "      <td>4.827651e+06</td>\n",
       "      <td>4.827651e+06</td>\n",
       "      <td>4.827651e+06</td>\n",
       "    </tr>\n",
       "    <tr>\n",
       "      <th>mean</th>\n",
       "      <td>1.103789e+01</td>\n",
       "      <td>-7.397566e+01</td>\n",
       "      <td>4.075081e+01</td>\n",
       "      <td>-7.397473e+01</td>\n",
       "      <td>4.075081e+01</td>\n",
       "      <td>1.690423e+00</td>\n",
       "      <td>3.225354e+00</td>\n",
       "    </tr>\n",
       "    <tr>\n",
       "      <th>std</th>\n",
       "      <td>8.755385e+00</td>\n",
       "      <td>3.367307e-02</td>\n",
       "      <td>2.649189e-02</td>\n",
       "      <td>3.176368e-02</td>\n",
       "      <td>2.934162e-02</td>\n",
       "      <td>1.306251e+00</td>\n",
       "      <td>3.399770e+00</td>\n",
       "    </tr>\n",
       "    <tr>\n",
       "      <th>min</th>\n",
       "      <td>1.000000e-02</td>\n",
       "      <td>-7.404989e+01</td>\n",
       "      <td>4.055018e+01</td>\n",
       "      <td>-7.404997e+01</td>\n",
       "      <td>4.055046e+01</td>\n",
       "      <td>1.000000e+00</td>\n",
       "      <td>0.000000e+00</td>\n",
       "    </tr>\n",
       "    <tr>\n",
       "      <th>25%</th>\n",
       "      <td>6.000000e+00</td>\n",
       "      <td>-7.399228e+01</td>\n",
       "      <td>4.073657e+01</td>\n",
       "      <td>-7.399157e+01</td>\n",
       "      <td>4.073567e+01</td>\n",
       "      <td>1.000000e+00</td>\n",
       "      <td>1.250420e+00</td>\n",
       "    </tr>\n",
       "    <tr>\n",
       "      <th>50%</th>\n",
       "      <td>8.500000e+00</td>\n",
       "      <td>-7.398212e+01</td>\n",
       "      <td>4.075330e+01</td>\n",
       "      <td>-7.398069e+01</td>\n",
       "      <td>4.075375e+01</td>\n",
       "      <td>1.000000e+00</td>\n",
       "      <td>2.138349e+00</td>\n",
       "    </tr>\n",
       "    <tr>\n",
       "      <th>75%</th>\n",
       "      <td>1.250000e+01</td>\n",
       "      <td>-7.396847e+01</td>\n",
       "      <td>4.076741e+01</td>\n",
       "      <td>-7.396584e+01</td>\n",
       "      <td>4.076819e+01</td>\n",
       "      <td>2.000000e+00</td>\n",
       "      <td>3.847439e+00</td>\n",
       "    </tr>\n",
       "    <tr>\n",
       "      <th>max</th>\n",
       "      <td>6.000000e+01</td>\n",
       "      <td>-7.375001e+01</td>\n",
       "      <td>4.084999e+01</td>\n",
       "      <td>-7.375001e+01</td>\n",
       "      <td>4.085000e+01</td>\n",
       "      <td>7.000000e+00</td>\n",
       "      <td>2.878735e+01</td>\n",
       "    </tr>\n",
       "  </tbody>\n",
       "</table>\n",
       "</div>"
      ],
      "text/plain": [
       "        fare_amount  pickup_longitude  pickup_latitude  dropoff_longitude  \\\n",
       "count  4.827651e+06      4.827651e+06     4.827651e+06       4.827651e+06   \n",
       "mean   1.103789e+01     -7.397566e+01     4.075081e+01      -7.397473e+01   \n",
       "std    8.755385e+00      3.367307e-02     2.649189e-02       3.176368e-02   \n",
       "min    1.000000e-02     -7.404989e+01     4.055018e+01      -7.404997e+01   \n",
       "25%    6.000000e+00     -7.399228e+01     4.073657e+01      -7.399157e+01   \n",
       "50%    8.500000e+00     -7.398212e+01     4.075330e+01      -7.398069e+01   \n",
       "75%    1.250000e+01     -7.396847e+01     4.076741e+01      -7.396584e+01   \n",
       "max    6.000000e+01     -7.375001e+01     4.084999e+01      -7.375001e+01   \n",
       "\n",
       "       dropoff_latitude  passenger_count      distance  \n",
       "count      4.827651e+06     4.827651e+06  4.827651e+06  \n",
       "mean       4.075081e+01     1.690423e+00  3.225354e+00  \n",
       "std        2.934162e-02     1.306251e+00  3.399770e+00  \n",
       "min        4.055046e+01     1.000000e+00  0.000000e+00  \n",
       "25%        4.073567e+01     1.000000e+00  1.250420e+00  \n",
       "50%        4.075375e+01     1.000000e+00  2.138349e+00  \n",
       "75%        4.076819e+01     2.000000e+00  3.847439e+00  \n",
       "max        4.085000e+01     7.000000e+00  2.878735e+01  "
      ]
     },
     "execution_count": 28,
     "metadata": {},
     "output_type": "execute_result"
    }
   ],
   "source": [
    "df.describe()"
   ]
  },
  {
   "cell_type": "code",
   "execution_count": 29,
   "metadata": {},
   "outputs": [],
   "source": [
    "df = df[~((df.fare_amount > 40) & (df.distance < 5))]"
   ]
  },
  {
   "cell_type": "code",
   "execution_count": 30,
   "metadata": {},
   "outputs": [],
   "source": [
    "# Feature Engineering\n",
    "df['pickup_datetime'] = pd.to_datetime(df['pickup_datetime'])\n",
    "df['hour'] = df['pickup_datetime'].dt.hour\n",
    "df['day'] = df['pickup_datetime'].dt.day\n",
    "df['week'] = df['pickup_datetime'].dt.week\n",
    "df['month'] = df['pickup_datetime'].dt.month\n",
    "df['day_of_year'] = df['pickup_datetime'].dt.dayofyear\n",
    "df['week_of_year'] = df['pickup_datetime'].dt.weekofyear\n",
    "df['year'] = df['pickup_datetime'].dt.year"
   ]
  },
  {
   "cell_type": "code",
   "execution_count": 31,
   "metadata": {},
   "outputs": [],
   "source": [
    "# There is no outlier in hour, day, week, month, day_of_year, week_of_year as evident from their min and max values\n",
    "df.describe()\n"
   ]
  },
  {
   "cell_type": "code",
   "execution_count": 32,
   "metadata": {},
   "outputs": [
    {
     "data": {
      "text/html": [
       "<div>\n",
       "<style scoped>\n",
       "    .dataframe tbody tr th:only-of-type {\n",
       "        vertical-align: middle;\n",
       "    }\n",
       "\n",
       "    .dataframe tbody tr th {\n",
       "        vertical-align: top;\n",
       "    }\n",
       "\n",
       "    .dataframe thead th {\n",
       "        text-align: right;\n",
       "    }\n",
       "</style>\n",
       "<table border=\"1\" class=\"dataframe\">\n",
       "  <thead>\n",
       "    <tr style=\"text-align: right;\">\n",
       "      <th></th>\n",
       "      <th>fare_amount</th>\n",
       "      <th>pickup_longitude</th>\n",
       "      <th>pickup_latitude</th>\n",
       "      <th>dropoff_longitude</th>\n",
       "      <th>dropoff_latitude</th>\n",
       "      <th>passenger_count</th>\n",
       "      <th>distance</th>\n",
       "      <th>hour</th>\n",
       "      <th>day</th>\n",
       "      <th>week</th>\n",
       "      <th>month</th>\n",
       "      <th>day_of_year</th>\n",
       "      <th>week_of_year</th>\n",
       "      <th>year</th>\n",
       "    </tr>\n",
       "  </thead>\n",
       "  <tbody>\n",
       "    <tr>\n",
       "      <th>fare_amount</th>\n",
       "      <td>1.000000</td>\n",
       "      <td>0.458470</td>\n",
       "      <td>-0.227462</td>\n",
       "      <td>0.393536</td>\n",
       "      <td>-0.215770</td>\n",
       "      <td>0.017260</td>\n",
       "      <td>0.914287</td>\n",
       "      <td>-0.013955</td>\n",
       "      <td>0.001369</td>\n",
       "      <td>0.026391</td>\n",
       "      <td>0.026601</td>\n",
       "      <td>0.026589</td>\n",
       "      <td>0.026391</td>\n",
       "      <td>0.126142</td>\n",
       "    </tr>\n",
       "    <tr>\n",
       "      <th>pickup_longitude</th>\n",
       "      <td>0.458470</td>\n",
       "      <td>1.000000</td>\n",
       "      <td>-0.023924</td>\n",
       "      <td>0.272631</td>\n",
       "      <td>0.053097</td>\n",
       "      <td>0.002084</td>\n",
       "      <td>0.456312</td>\n",
       "      <td>0.019801</td>\n",
       "      <td>-0.000415</td>\n",
       "      <td>0.007803</td>\n",
       "      <td>0.007588</td>\n",
       "      <td>0.007511</td>\n",
       "      <td>0.007803</td>\n",
       "      <td>0.011172</td>\n",
       "    </tr>\n",
       "    <tr>\n",
       "      <th>pickup_latitude</th>\n",
       "      <td>-0.227462</td>\n",
       "      <td>-0.023924</td>\n",
       "      <td>1.000000</td>\n",
       "      <td>0.073017</td>\n",
       "      <td>0.425640</td>\n",
       "      <td>-0.008415</td>\n",
       "      <td>-0.254068</td>\n",
       "      <td>0.028354</td>\n",
       "      <td>-0.002663</td>\n",
       "      <td>-0.004228</td>\n",
       "      <td>-0.004898</td>\n",
       "      <td>-0.005081</td>\n",
       "      <td>-0.004228</td>\n",
       "      <td>-0.011886</td>\n",
       "    </tr>\n",
       "    <tr>\n",
       "      <th>dropoff_longitude</th>\n",
       "      <td>0.393536</td>\n",
       "      <td>0.272631</td>\n",
       "      <td>0.073017</td>\n",
       "      <td>1.000000</td>\n",
       "      <td>0.110417</td>\n",
       "      <td>-0.000045</td>\n",
       "      <td>0.409930</td>\n",
       "      <td>-0.051818</td>\n",
       "      <td>-0.000299</td>\n",
       "      <td>0.006234</td>\n",
       "      <td>0.005917</td>\n",
       "      <td>0.005854</td>\n",
       "      <td>0.006234</td>\n",
       "      <td>0.008012</td>\n",
       "    </tr>\n",
       "    <tr>\n",
       "      <th>dropoff_latitude</th>\n",
       "      <td>-0.215770</td>\n",
       "      <td>0.053097</td>\n",
       "      <td>0.425640</td>\n",
       "      <td>0.110417</td>\n",
       "      <td>1.000000</td>\n",
       "      <td>-0.005172</td>\n",
       "      <td>-0.211630</td>\n",
       "      <td>0.022135</td>\n",
       "      <td>-0.002865</td>\n",
       "      <td>-0.004345</td>\n",
       "      <td>-0.004856</td>\n",
       "      <td>-0.005063</td>\n",
       "      <td>-0.004345</td>\n",
       "      <td>-0.007002</td>\n",
       "    </tr>\n",
       "    <tr>\n",
       "      <th>passenger_count</th>\n",
       "      <td>0.017260</td>\n",
       "      <td>0.002084</td>\n",
       "      <td>-0.008415</td>\n",
       "      <td>-0.000045</td>\n",
       "      <td>-0.005172</td>\n",
       "      <td>1.000000</td>\n",
       "      <td>0.011905</td>\n",
       "      <td>0.016268</td>\n",
       "      <td>0.004122</td>\n",
       "      <td>0.004404</td>\n",
       "      <td>0.004594</td>\n",
       "      <td>0.004938</td>\n",
       "      <td>0.004404</td>\n",
       "      <td>0.004889</td>\n",
       "    </tr>\n",
       "    <tr>\n",
       "      <th>distance</th>\n",
       "      <td>0.914287</td>\n",
       "      <td>0.456312</td>\n",
       "      <td>-0.254068</td>\n",
       "      <td>0.409930</td>\n",
       "      <td>-0.211630</td>\n",
       "      <td>0.011905</td>\n",
       "      <td>1.000000</td>\n",
       "      <td>-0.027091</td>\n",
       "      <td>0.001373</td>\n",
       "      <td>0.013376</td>\n",
       "      <td>0.013419</td>\n",
       "      <td>0.013441</td>\n",
       "      <td>0.013376</td>\n",
       "      <td>0.022895</td>\n",
       "    </tr>\n",
       "    <tr>\n",
       "      <th>hour</th>\n",
       "      <td>-0.013955</td>\n",
       "      <td>0.019801</td>\n",
       "      <td>0.028354</td>\n",
       "      <td>-0.051818</td>\n",
       "      <td>0.022135</td>\n",
       "      <td>0.016268</td>\n",
       "      <td>-0.027091</td>\n",
       "      <td>1.000000</td>\n",
       "      <td>0.001254</td>\n",
       "      <td>-0.004915</td>\n",
       "      <td>-0.004733</td>\n",
       "      <td>-0.004608</td>\n",
       "      <td>-0.004915</td>\n",
       "      <td>-0.000008</td>\n",
       "    </tr>\n",
       "    <tr>\n",
       "      <th>day</th>\n",
       "      <td>0.001369</td>\n",
       "      <td>-0.000415</td>\n",
       "      <td>-0.002663</td>\n",
       "      <td>-0.000299</td>\n",
       "      <td>-0.002865</td>\n",
       "      <td>0.004122</td>\n",
       "      <td>0.001373</td>\n",
       "      <td>0.001254</td>\n",
       "      <td>1.000000</td>\n",
       "      <td>0.044756</td>\n",
       "      <td>-0.015682</td>\n",
       "      <td>0.067058</td>\n",
       "      <td>0.044756</td>\n",
       "      <td>-0.009569</td>\n",
       "    </tr>\n",
       "    <tr>\n",
       "      <th>week</th>\n",
       "      <td>0.026391</td>\n",
       "      <td>0.007803</td>\n",
       "      <td>-0.004228</td>\n",
       "      <td>0.006234</td>\n",
       "      <td>-0.004345</td>\n",
       "      <td>0.004404</td>\n",
       "      <td>0.013376</td>\n",
       "      <td>-0.004915</td>\n",
       "      <td>0.044756</td>\n",
       "      <td>1.000000</td>\n",
       "      <td>0.975111</td>\n",
       "      <td>0.976771</td>\n",
       "      <td>1.000000</td>\n",
       "      <td>-0.123089</td>\n",
       "    </tr>\n",
       "    <tr>\n",
       "      <th>month</th>\n",
       "      <td>0.026601</td>\n",
       "      <td>0.007588</td>\n",
       "      <td>-0.004898</td>\n",
       "      <td>0.005917</td>\n",
       "      <td>-0.004856</td>\n",
       "      <td>0.004594</td>\n",
       "      <td>0.013419</td>\n",
       "      <td>-0.004733</td>\n",
       "      <td>-0.015682</td>\n",
       "      <td>0.975111</td>\n",
       "      <td>1.000000</td>\n",
       "      <td>0.996549</td>\n",
       "      <td>0.975111</td>\n",
       "      <td>-0.118439</td>\n",
       "    </tr>\n",
       "    <tr>\n",
       "      <th>day_of_year</th>\n",
       "      <td>0.026589</td>\n",
       "      <td>0.007511</td>\n",
       "      <td>-0.005081</td>\n",
       "      <td>0.005854</td>\n",
       "      <td>-0.005063</td>\n",
       "      <td>0.004938</td>\n",
       "      <td>0.013441</td>\n",
       "      <td>-0.004608</td>\n",
       "      <td>0.067058</td>\n",
       "      <td>0.976771</td>\n",
       "      <td>0.996549</td>\n",
       "      <td>1.000000</td>\n",
       "      <td>0.976771</td>\n",
       "      <td>-0.118851</td>\n",
       "    </tr>\n",
       "    <tr>\n",
       "      <th>week_of_year</th>\n",
       "      <td>0.026391</td>\n",
       "      <td>0.007803</td>\n",
       "      <td>-0.004228</td>\n",
       "      <td>0.006234</td>\n",
       "      <td>-0.004345</td>\n",
       "      <td>0.004404</td>\n",
       "      <td>0.013376</td>\n",
       "      <td>-0.004915</td>\n",
       "      <td>0.044756</td>\n",
       "      <td>1.000000</td>\n",
       "      <td>0.975111</td>\n",
       "      <td>0.976771</td>\n",
       "      <td>1.000000</td>\n",
       "      <td>-0.123089</td>\n",
       "    </tr>\n",
       "    <tr>\n",
       "      <th>year</th>\n",
       "      <td>0.126142</td>\n",
       "      <td>0.011172</td>\n",
       "      <td>-0.011886</td>\n",
       "      <td>0.008012</td>\n",
       "      <td>-0.007002</td>\n",
       "      <td>0.004889</td>\n",
       "      <td>0.022895</td>\n",
       "      <td>-0.000008</td>\n",
       "      <td>-0.009569</td>\n",
       "      <td>-0.123089</td>\n",
       "      <td>-0.118439</td>\n",
       "      <td>-0.118851</td>\n",
       "      <td>-0.123089</td>\n",
       "      <td>1.000000</td>\n",
       "    </tr>\n",
       "  </tbody>\n",
       "</table>\n",
       "</div>"
      ],
      "text/plain": [
       "                   fare_amount  pickup_longitude  pickup_latitude  \\\n",
       "fare_amount           1.000000          0.458470        -0.227462   \n",
       "pickup_longitude      0.458470          1.000000        -0.023924   \n",
       "pickup_latitude      -0.227462         -0.023924         1.000000   \n",
       "dropoff_longitude     0.393536          0.272631         0.073017   \n",
       "dropoff_latitude     -0.215770          0.053097         0.425640   \n",
       "passenger_count       0.017260          0.002084        -0.008415   \n",
       "distance              0.914287          0.456312        -0.254068   \n",
       "hour                 -0.013955          0.019801         0.028354   \n",
       "day                   0.001369         -0.000415        -0.002663   \n",
       "week                  0.026391          0.007803        -0.004228   \n",
       "month                 0.026601          0.007588        -0.004898   \n",
       "day_of_year           0.026589          0.007511        -0.005081   \n",
       "week_of_year          0.026391          0.007803        -0.004228   \n",
       "year                  0.126142          0.011172        -0.011886   \n",
       "\n",
       "                   dropoff_longitude  dropoff_latitude  passenger_count  \\\n",
       "fare_amount                 0.393536         -0.215770         0.017260   \n",
       "pickup_longitude            0.272631          0.053097         0.002084   \n",
       "pickup_latitude             0.073017          0.425640        -0.008415   \n",
       "dropoff_longitude           1.000000          0.110417        -0.000045   \n",
       "dropoff_latitude            0.110417          1.000000        -0.005172   \n",
       "passenger_count            -0.000045         -0.005172         1.000000   \n",
       "distance                    0.409930         -0.211630         0.011905   \n",
       "hour                       -0.051818          0.022135         0.016268   \n",
       "day                        -0.000299         -0.002865         0.004122   \n",
       "week                        0.006234         -0.004345         0.004404   \n",
       "month                       0.005917         -0.004856         0.004594   \n",
       "day_of_year                 0.005854         -0.005063         0.004938   \n",
       "week_of_year                0.006234         -0.004345         0.004404   \n",
       "year                        0.008012         -0.007002         0.004889   \n",
       "\n",
       "                   distance      hour       day      week     month  \\\n",
       "fare_amount        0.914287 -0.013955  0.001369  0.026391  0.026601   \n",
       "pickup_longitude   0.456312  0.019801 -0.000415  0.007803  0.007588   \n",
       "pickup_latitude   -0.254068  0.028354 -0.002663 -0.004228 -0.004898   \n",
       "dropoff_longitude  0.409930 -0.051818 -0.000299  0.006234  0.005917   \n",
       "dropoff_latitude  -0.211630  0.022135 -0.002865 -0.004345 -0.004856   \n",
       "passenger_count    0.011905  0.016268  0.004122  0.004404  0.004594   \n",
       "distance           1.000000 -0.027091  0.001373  0.013376  0.013419   \n",
       "hour              -0.027091  1.000000  0.001254 -0.004915 -0.004733   \n",
       "day                0.001373  0.001254  1.000000  0.044756 -0.015682   \n",
       "week               0.013376 -0.004915  0.044756  1.000000  0.975111   \n",
       "month              0.013419 -0.004733 -0.015682  0.975111  1.000000   \n",
       "day_of_year        0.013441 -0.004608  0.067058  0.976771  0.996549   \n",
       "week_of_year       0.013376 -0.004915  0.044756  1.000000  0.975111   \n",
       "year               0.022895 -0.000008 -0.009569 -0.123089 -0.118439   \n",
       "\n",
       "                   day_of_year  week_of_year      year  \n",
       "fare_amount           0.026589      0.026391  0.126142  \n",
       "pickup_longitude      0.007511      0.007803  0.011172  \n",
       "pickup_latitude      -0.005081     -0.004228 -0.011886  \n",
       "dropoff_longitude     0.005854      0.006234  0.008012  \n",
       "dropoff_latitude     -0.005063     -0.004345 -0.007002  \n",
       "passenger_count       0.004938      0.004404  0.004889  \n",
       "distance              0.013441      0.013376  0.022895  \n",
       "hour                 -0.004608     -0.004915 -0.000008  \n",
       "day                   0.067058      0.044756 -0.009569  \n",
       "week                  0.976771      1.000000 -0.123089  \n",
       "month                 0.996549      0.975111 -0.118439  \n",
       "day_of_year           1.000000      0.976771 -0.118851  \n",
       "week_of_year          0.976771      1.000000 -0.123089  \n",
       "year                 -0.118851     -0.123089  1.000000  "
      ]
     },
     "execution_count": 32,
     "metadata": {},
     "output_type": "execute_result"
    }
   ],
   "source": [
    "# Let's compute correlation coefficient \n",
    "df.corr()"
   ]
  },
  {
   "cell_type": "code",
   "execution_count": 33,
   "metadata": {},
   "outputs": [
    {
     "data": {
      "text/plain": [
       "<matplotlib.axes._subplots.AxesSubplot at 0x1a161a37b8>"
      ]
     },
     "execution_count": 33,
     "metadata": {},
     "output_type": "execute_result"
    },
    {
     "data": {
      "image/png": "[encoded data removed]",
      "text/plain": [
       "<Figure size 432x288 with 1 Axes>"
      ]
     },
     "metadata": {},
     "output_type": "display_data"
    }
   ],
   "source": [
    "# Let's check some relationships:\n",
    "# (1) fare_amount and distance\n",
    "df.plot(kind='scatter',x='distance',y='fare_amount',c='blue',s=0.2,alpha=.6)"
   ]
  },
  {
   "cell_type": "code",
   "execution_count": 34,
   "metadata": {},
   "outputs": [
    {
     "data": {
      "text/plain": [
       "0.9142873503796988"
      ]
     },
     "execution_count": 34,
     "metadata": {},
     "output_type": "execute_result"
    }
   ],
   "source": [
    "df['fare_amount'].corr(df['distance'])\n",
    "# Linear Plot and correlation factor of 0.88 signifies linear relationship between fare_amount and distance travelled in a trip. The fare gets increased with the distance travelled."
   ]
  },
  {
   "cell_type": "code",
   "execution_count": 35,
   "metadata": {},
   "outputs": [
    {
     "data": {
      "text/plain": [
       "<matplotlib.axes._subplots.AxesSubplot at 0x1b12e8e400>"
      ]
     },
     "execution_count": 35,
     "metadata": {},
     "output_type": "execute_result"
    },
    {
     "data": {
      "image/png": "[encoded data removed]",
      "text/plain": [
       "<Figure size 432x288 with 1 Axes>"
      ]
     },
     "metadata": {},
     "output_type": "display_data"
    }
   ],
   "source": [
    "# (2) fare_amount and day of time\n",
    "df[['fare_amount', 'hour']].boxplot(by = 'hour', showfliers = False)"
   ]
  },
  {
   "cell_type": "code",
   "execution_count": 36,
   "metadata": {},
   "outputs": [
    {
     "data": {
      "text/plain": [
       "-0.013955057562161444"
      ]
     },
     "execution_count": 36,
     "metadata": {},
     "output_type": "execute_result"
    }
   ],
   "source": [
    "df['fare_amount'].corr(df['hour'])\n",
    "# Findings : 1) Correlation factor = -0.01607561723255814 which does not implies any relation betweem fare_amount and hour.\n",
    "# max fare_amount is in the morning at 5 am which keeps on decreasing till 7 am and it remains almost constant theroughout the day. Morning high fares \n",
    "#may be due to the fact of people going to/from airport."
   ]
  },
  {
   "cell_type": "code",
   "execution_count": 37,
   "metadata": {},
   "outputs": [
    {
     "data": {
      "text/plain": [
       "<matplotlib.axes._subplots.AxesSubplot at 0x1a14724278>"
      ]
     },
     "execution_count": 37,
     "metadata": {},
     "output_type": "execute_result"
    },
    {
     "data": {
      "image/png": "[encoded data removed]",
      "text/plain": [
       "<Figure size 432x288 with 1 Axes>"
      ]
     },
     "metadata": {},
     "output_type": "display_data"
    }
   ],
   "source": [
    "# (3) distance and day of time\n",
    "df[['distance', 'hour']].boxplot(by = 'hour', showfliers = False)"
   ]
  },
  {
   "cell_type": "code",
   "execution_count": 38,
   "metadata": {},
   "outputs": [
    {
     "data": {
      "text/plain": [
       "-0.027091010165026273"
      ]
     },
     "execution_count": 38,
     "metadata": {},
     "output_type": "execute_result"
    }
   ],
   "source": [
    "df['distance'].corr(df['hour'])\n",
    "# Findings : 1) Correlation factor = -0.029914726054103426 which does not implies any relation betweem distance and hour.\n",
    "# max_distance travelled is in the morning at 5 am may be due to the same fact of taxi going to/from airport. So there is no significant relation betweem distance and day of time. "
   ]
  },
  {
   "cell_type": "code",
   "execution_count": 39,
   "metadata": {},
   "outputs": [
    {
     "data": {
      "text/plain": [
       "<matplotlib.axes._subplots.AxesSubplot at 0x1a19163b38>"
      ]
     },
     "execution_count": 39,
     "metadata": {},
     "output_type": "execute_result"
    },
    {
     "data": {
      "image/png": "[encoded data removed]",
      "text/plain": [
       "<Figure size 432x288 with 1 Axes>"
      ]
     },
     "metadata": {},
     "output_type": "display_data"
    }
   ],
   "source": [
    "df[['fare_amount', 'month']].boxplot(by = 'month', showfliers = False)\n",
    "#It shows the maximum fare received in the months of may and June due to summer vacations. Also the maximum fare is received in the months of October\n",
    "#to december may be to the new year."
   ]
  },
  {
   "cell_type": "code",
   "execution_count": 40,
   "metadata": {},
   "outputs": [
    {
     "data": {
      "text/plain": [
       "<matplotlib.collections.PathCollection at 0x1a148d70b8>"
      ]
     },
     "execution_count": 40,
     "metadata": {},
     "output_type": "execute_result"
    },
    {
     "data": {
      "image/png": "[encoded data removed]",
      "text/plain": [
       "<Figure size 432x288 with 1 Axes>"
      ]
     },
     "metadata": {},
     "output_type": "display_data"
    }
   ],
   "source": [
    "plt.scatter(x=df['day'], y=df['fare_amount'], s=1.5)\n",
    "#No correlation between date and fare_amount"
   ]
  },
  {
   "cell_type": "code",
   "execution_count": 41,
   "metadata": {},
   "outputs": [],
   "source": [
    "    def populateAirportDataSet(data):\n",
    "        jfk_coord = (40.639722, -73.778889)\n",
    "        ewr_coord = (40.6925, -74.168611)\n",
    "        lga_coord = (40.77725, -73.872611)\n",
    "        mylist = []\n",
    "        for i,row in data.iterrows():\n",
    "            pickup_lat = radians(row['pickup_latitude'])\n",
    "            dropoff_lat = radians(row['dropoff_latitude'])\n",
    "            pickup_lon = radians(row['pickup_longitude'])\n",
    "            dropoff_lon = radians(row['dropoff_longitude'])\n",
    "            #print('vivek')\n",
    "            pickup_jfk = cal_haversinedistance(pickup_lat, pickup_lon, jfk_coord[0], jfk_coord[1]) \n",
    "            dropoff_jfk = cal_haversinedistance(jfk_coord[0], jfk_coord[1], dropoff_lat, dropoff_lon) \n",
    "            pickup_ewr = cal_haversinedistance(pickup_lat, pickup_lon, ewr_coord[0], ewr_coord[1])\n",
    "            dropoff_ewr = cal_haversinedistance(ewr_coord[0], ewr_coord[1], dropoff_lat, dropoff_lon) \n",
    "            pickup_lga = cal_haversinedistance(pickup_lat, pickup_lon, lga_coord[0], lga_coord[1]) \n",
    "            dropoff_lga = cal_haversinedistance(lga_coord[0], lga_coord[1], dropoff_lat, dropoff_lon) \n",
    "            if(pickup_jfk < 2 or dropoff_jfk < 2 or pickup_ewr < 2 or dropoff_ewr < 2 or pickup_lga < 2 or dropoff_lga < 2):\n",
    "                mylist.append(1)\n",
    "            else:\n",
    "                mylist.append(0)\n",
    "        return mylist"
   ]
  },
  {
   "cell_type": "code",
   "execution_count": 42,
   "metadata": {},
   "outputs": [],
   "source": [
    "df['isAirportRide'] = populateAirportDataSet(df)"
   ]
  },
  {
   "cell_type": "code",
   "execution_count": 43,
   "metadata": {},
   "outputs": [
    {
     "data": {
      "text/html": [
       "<div>\n",
       "<style scoped>\n",
       "    .dataframe tbody tr th:only-of-type {\n",
       "        vertical-align: middle;\n",
       "    }\n",
       "\n",
       "    .dataframe tbody tr th {\n",
       "        vertical-align: top;\n",
       "    }\n",
       "\n",
       "    .dataframe thead th {\n",
       "        text-align: right;\n",
       "    }\n",
       "</style>\n",
       "<table border=\"1\" class=\"dataframe\">\n",
       "  <thead>\n",
       "    <tr style=\"text-align: right;\">\n",
       "      <th></th>\n",
       "      <th>fare_amount</th>\n",
       "      <th>pickup_longitude</th>\n",
       "      <th>pickup_latitude</th>\n",
       "      <th>dropoff_longitude</th>\n",
       "      <th>dropoff_latitude</th>\n",
       "      <th>passenger_count</th>\n",
       "      <th>distance</th>\n",
       "      <th>hour</th>\n",
       "      <th>day</th>\n",
       "      <th>week</th>\n",
       "      <th>month</th>\n",
       "      <th>day_of_year</th>\n",
       "      <th>week_of_year</th>\n",
       "      <th>year</th>\n",
       "      <th>isAirportRide</th>\n",
       "    </tr>\n",
       "  </thead>\n",
       "  <tbody>\n",
       "    <tr>\n",
       "      <th>count</th>\n",
       "      <td>4.816588e+06</td>\n",
       "      <td>4.816588e+06</td>\n",
       "      <td>4.816588e+06</td>\n",
       "      <td>4.816588e+06</td>\n",
       "      <td>4.816588e+06</td>\n",
       "      <td>4.816588e+06</td>\n",
       "      <td>4.816588e+06</td>\n",
       "      <td>4.816588e+06</td>\n",
       "      <td>4.816588e+06</td>\n",
       "      <td>4.816588e+06</td>\n",
       "      <td>4.816588e+06</td>\n",
       "      <td>4.816588e+06</td>\n",
       "      <td>4.816588e+06</td>\n",
       "      <td>4.816588e+06</td>\n",
       "      <td>4816588.0</td>\n",
       "    </tr>\n",
       "    <tr>\n",
       "      <th>mean</th>\n",
       "      <td>1.094843e+01</td>\n",
       "      <td>-7.397574e+01</td>\n",
       "      <td>4.075086e+01</td>\n",
       "      <td>-7.397480e+01</td>\n",
       "      <td>4.075085e+01</td>\n",
       "      <td>1.690647e+00</td>\n",
       "      <td>3.230506e+00</td>\n",
       "      <td>1.351978e+01</td>\n",
       "      <td>1.571701e+01</td>\n",
       "      <td>2.546496e+01</td>\n",
       "      <td>6.269116e+00</td>\n",
       "      <td>1.753048e+02</td>\n",
       "      <td>2.546496e+01</td>\n",
       "      <td>2.011739e+03</td>\n",
       "      <td>0.0</td>\n",
       "    </tr>\n",
       "    <tr>\n",
       "      <th>std</th>\n",
       "      <td>8.560810e+00</td>\n",
       "      <td>3.343625e-02</td>\n",
       "      <td>2.640386e-02</td>\n",
       "      <td>3.150210e-02</td>\n",
       "      <td>2.926771e-02</td>\n",
       "      <td>1.306435e+00</td>\n",
       "      <td>3.401233e+00</td>\n",
       "      <td>6.504249e+00</td>\n",
       "      <td>8.684374e+00</td>\n",
       "      <td>1.494863e+01</td>\n",
       "      <td>3.436639e+00</td>\n",
       "      <td>1.048094e+02</td>\n",
       "      <td>1.494863e+01</td>\n",
       "      <td>1.865292e+00</td>\n",
       "      <td>0.0</td>\n",
       "    </tr>\n",
       "    <tr>\n",
       "      <th>min</th>\n",
       "      <td>1.000000e-02</td>\n",
       "      <td>-7.404989e+01</td>\n",
       "      <td>4.055018e+01</td>\n",
       "      <td>-7.404996e+01</td>\n",
       "      <td>4.055046e+01</td>\n",
       "      <td>1.000000e+00</td>\n",
       "      <td>0.000000e+00</td>\n",
       "      <td>0.000000e+00</td>\n",
       "      <td>1.000000e+00</td>\n",
       "      <td>1.000000e+00</td>\n",
       "      <td>1.000000e+00</td>\n",
       "      <td>1.000000e+00</td>\n",
       "      <td>1.000000e+00</td>\n",
       "      <td>2.009000e+03</td>\n",
       "      <td>0.0</td>\n",
       "    </tr>\n",
       "    <tr>\n",
       "      <th>25%</th>\n",
       "      <td>6.000000e+00</td>\n",
       "      <td>-7.399228e+01</td>\n",
       "      <td>4.073660e+01</td>\n",
       "      <td>-7.399156e+01</td>\n",
       "      <td>4.073572e+01</td>\n",
       "      <td>1.000000e+00</td>\n",
       "      <td>1.253646e+00</td>\n",
       "      <td>9.000000e+00</td>\n",
       "      <td>8.000000e+00</td>\n",
       "      <td>1.300000e+01</td>\n",
       "      <td>3.000000e+00</td>\n",
       "      <td>8.500000e+01</td>\n",
       "      <td>1.300000e+01</td>\n",
       "      <td>2.010000e+03</td>\n",
       "      <td>0.0</td>\n",
       "    </tr>\n",
       "    <tr>\n",
       "      <th>50%</th>\n",
       "      <td>8.500000e+00</td>\n",
       "      <td>-7.398213e+01</td>\n",
       "      <td>4.075332e+01</td>\n",
       "      <td>-7.398070e+01</td>\n",
       "      <td>4.075377e+01</td>\n",
       "      <td>1.000000e+00</td>\n",
       "      <td>2.141089e+00</td>\n",
       "      <td>1.400000e+01</td>\n",
       "      <td>1.600000e+01</td>\n",
       "      <td>2.400000e+01</td>\n",
       "      <td>6.000000e+00</td>\n",
       "      <td>1.670000e+02</td>\n",
       "      <td>2.400000e+01</td>\n",
       "      <td>2.012000e+03</td>\n",
       "      <td>0.0</td>\n",
       "    </tr>\n",
       "    <tr>\n",
       "      <th>75%</th>\n",
       "      <td>1.250000e+01</td>\n",
       "      <td>-7.396850e+01</td>\n",
       "      <td>4.076743e+01</td>\n",
       "      <td>-7.396586e+01</td>\n",
       "      <td>4.076821e+01</td>\n",
       "      <td>2.000000e+00</td>\n",
       "      <td>3.851992e+00</td>\n",
       "      <td>1.900000e+01</td>\n",
       "      <td>2.300000e+01</td>\n",
       "      <td>3.900000e+01</td>\n",
       "      <td>9.000000e+00</td>\n",
       "      <td>2.670000e+02</td>\n",
       "      <td>3.900000e+01</td>\n",
       "      <td>2.013000e+03</td>\n",
       "      <td>0.0</td>\n",
       "    </tr>\n",
       "    <tr>\n",
       "      <th>max</th>\n",
       "      <td>6.000000e+01</td>\n",
       "      <td>-7.375001e+01</td>\n",
       "      <td>4.084999e+01</td>\n",
       "      <td>-7.375001e+01</td>\n",
       "      <td>4.085000e+01</td>\n",
       "      <td>7.000000e+00</td>\n",
       "      <td>2.878735e+01</td>\n",
       "      <td>2.300000e+01</td>\n",
       "      <td>3.100000e+01</td>\n",
       "      <td>5.300000e+01</td>\n",
       "      <td>1.200000e+01</td>\n",
       "      <td>3.660000e+02</td>\n",
       "      <td>5.300000e+01</td>\n",
       "      <td>2.015000e+03</td>\n",
       "      <td>0.0</td>\n",
       "    </tr>\n",
       "  </tbody>\n",
       "</table>\n",
       "</div>"
      ],
      "text/plain": [
       "        fare_amount  pickup_longitude  pickup_latitude  dropoff_longitude  \\\n",
       "count  4.816588e+06      4.816588e+06     4.816588e+06       4.816588e+06   \n",
       "mean   1.094843e+01     -7.397574e+01     4.075086e+01      -7.397480e+01   \n",
       "std    8.560810e+00      3.343625e-02     2.640386e-02       3.150210e-02   \n",
       "min    1.000000e-02     -7.404989e+01     4.055018e+01      -7.404996e+01   \n",
       "25%    6.000000e+00     -7.399228e+01     4.073660e+01      -7.399156e+01   \n",
       "50%    8.500000e+00     -7.398213e+01     4.075332e+01      -7.398070e+01   \n",
       "75%    1.250000e+01     -7.396850e+01     4.076743e+01      -7.396586e+01   \n",
       "max    6.000000e+01     -7.375001e+01     4.084999e+01      -7.375001e+01   \n",
       "\n",
       "       dropoff_latitude  passenger_count      distance          hour  \\\n",
       "count      4.816588e+06     4.816588e+06  4.816588e+06  4.816588e+06   \n",
       "mean       4.075085e+01     1.690647e+00  3.230506e+00  1.351978e+01   \n",
       "std        2.926771e-02     1.306435e+00  3.401233e+00  6.504249e+00   \n",
       "min        4.055046e+01     1.000000e+00  0.000000e+00  0.000000e+00   \n",
       "25%        4.073572e+01     1.000000e+00  1.253646e+00  9.000000e+00   \n",
       "50%        4.075377e+01     1.000000e+00  2.141089e+00  1.400000e+01   \n",
       "75%        4.076821e+01     2.000000e+00  3.851992e+00  1.900000e+01   \n",
       "max        4.085000e+01     7.000000e+00  2.878735e+01  2.300000e+01   \n",
       "\n",
       "                day          week         month   day_of_year  week_of_year  \\\n",
       "count  4.816588e+06  4.816588e+06  4.816588e+06  4.816588e+06  4.816588e+06   \n",
       "mean   1.571701e+01  2.546496e+01  6.269116e+00  1.753048e+02  2.546496e+01   \n",
       "std    8.684374e+00  1.494863e+01  3.436639e+00  1.048094e+02  1.494863e+01   \n",
       "min    1.000000e+00  1.000000e+00  1.000000e+00  1.000000e+00  1.000000e+00   \n",
       "25%    8.000000e+00  1.300000e+01  3.000000e+00  8.500000e+01  1.300000e+01   \n",
       "50%    1.600000e+01  2.400000e+01  6.000000e+00  1.670000e+02  2.400000e+01   \n",
       "75%    2.300000e+01  3.900000e+01  9.000000e+00  2.670000e+02  3.900000e+01   \n",
       "max    3.100000e+01  5.300000e+01  1.200000e+01  3.660000e+02  5.300000e+01   \n",
       "\n",
       "               year  isAirportRide  \n",
       "count  4.816588e+06      4816588.0  \n",
       "mean   2.011739e+03            0.0  \n",
       "std    1.865292e+00            0.0  \n",
       "min    2.009000e+03            0.0  \n",
       "25%    2.010000e+03            0.0  \n",
       "50%    2.012000e+03            0.0  \n",
       "75%    2.013000e+03            0.0  \n",
       "max    2.015000e+03            0.0  "
      ]
     },
     "execution_count": 43,
     "metadata": {},
     "output_type": "execute_result"
    }
   ],
   "source": [
    "df.describe()"
   ]
  },
  {
   "cell_type": "code",
   "execution_count": 44,
   "metadata": {},
   "outputs": [
    {
     "data": {
      "text/plain": [
       "<matplotlib.axes._subplots.AxesSubplot at 0x1b1efc5128>"
      ]
     },
     "execution_count": 44,
     "metadata": {},
     "output_type": "execute_result"
    },
    {
     "data": {
      "image/png": "[encoded data removed]",
      "text/plain": [
       "<Figure size 432x288 with 1 Axes>"
      ]
     },
     "metadata": {},
     "output_type": "display_data"
    }
   ],
   "source": [
    "df.plot(kind='scatter',x='hour',y='fare_amount',c='blue',s=0.2,alpha=.99)"
   ]
  },
  {
   "cell_type": "code",
   "execution_count": 45,
   "metadata": {},
   "outputs": [],
   "source": [
    "test = pd.read_csv('test.csv')\n"
   ]
  },
  {
   "cell_type": "code",
   "execution_count": 46,
   "metadata": {},
   "outputs": [],
   "source": [
    "USFederal_Holidays = USFederalHolidayCalendar().holidays(start='2005-01-01', end='2017-12-31').to_pydatetime()\n",
    "\n",
    "USFederal_Holidays = USFederal_Holidays.tolist()\n",
    "\n",
    "def IsUSFederalHoliday(data):\n",
    "    date = data['pickup_datetime']\n",
    "    if date in USFederal_Holidays:\n",
    "        return 1\n",
    "    else:\n",
    "        \n",
    "        return 0"
   ]
  },
  {
   "cell_type": "code",
   "execution_count": 47,
   "metadata": {},
   "outputs": [],
   "source": [
    "df['is_holiday'] = df.apply(IsUSFederalHoliday,axis = 1)"
   ]
  },
  {
   "cell_type": "code",
   "execution_count": 48,
   "metadata": {},
   "outputs": [],
   "source": [
    "# Modelling of data"
   ]
  },
  {
   "cell_type": "code",
   "execution_count": 49,
   "metadata": {},
   "outputs": [],
   "source": [
    "feature_names = ['pickup_longitude', 'pickup_latitude', 'dropoff_longitude', 'dropoff_latitude', 'passenger_count', 'distance', 'hour', 'year', 'isAirportRide', 'is_holiday']\n",
    "label_name = 'fare_amount'\n",
    "x_train = df[feature_names]\n",
    "y_train = df[label_name]\n",
    "test = pd.read_csv('test.csv')\n",
    "dist_calc(test)\n",
    "test['hour'] = pd.to_datetime(test['pickup_datetime']).dt.hour\n",
    "test['year'] = pd.to_datetime(test['pickup_datetime']).dt.year\n",
    "test['isAirportRide'] = populateAirportDataSet(test)\n",
    "test['is_holiday'] = test.apply(IsUSFederalHoliday,axis = 1)"
   ]
  },
  {
   "cell_type": "code",
   "execution_count": 50,
   "metadata": {},
   "outputs": [],
   "source": [
    "from sklearn.ensemble import RandomForestRegressor\n",
    "from sklearn.model_selection import train_test_split\n",
    "from sklearn.metrics import mean_squared_error, make_scorer\n",
    "from sklearn.model_selection import GridSearchCV\n",
    "from sklearn.linear_model import LinearRegression"
   ]
  },
  {
   "cell_type": "code",
   "execution_count": 51,
   "metadata": {},
   "outputs": [
    {
     "name": "stdout",
     "output_type": "stream",
     "text": [
      "root mean Squared Error : 2.740465470517641\n"
     ]
    }
   ],
   "source": [
    "#Random Forest Model\n",
    "x_train1, x_test1, y_train1, y_test1 = train_test_split(x_train,y_train, test_size=0.2)\n",
    "\n",
    "rfr = RandomForestRegressor()\n",
    "rfr.fit(x_train1, y_train1)\n",
    "rfr_prediction = rfr.predict(x_test1)\n",
    "\n",
    "#rfr_submission = pd.DataFrame({\"key\": test['key'],\"fare_amount\": rfr_prediction},columns = ['key','fare_amount'])\n",
    "rmse = np.sqrt(mean_squared_error(rfr_prediction,y_test1))\n",
    "print (\"root mean Squared Error : {}\".format(rmse))"
   ]
  },
  {
   "cell_type": "code",
   "execution_count": 52,
   "metadata": {},
   "outputs": [],
   "source": [
    "xtest = test[feature_names]\n",
    "rfr.fit(x_train, y_train)\n",
    "rfr_prediction = rfr.predict(xtest)"
   ]
  },
  {
   "cell_type": "code",
   "execution_count": 53,
   "metadata": {},
   "outputs": [],
   "source": [
    "submission = pd.read_csv('sample_submission.csv')\n",
    "submission['fare_amount'] = rfr_prediction\n",
    "submission.to_csv('vivek_submission.csv', index=False)\n"
   ]
  },
  {
   "cell_type": "code",
   "execution_count": 54,
   "metadata": {},
   "outputs": [
    {
     "data": {
      "text/plain": [
       "LinearRegression(copy_X=True, fit_intercept=True, n_jobs=1, normalize=False)"
      ]
     },
     "execution_count": 54,
     "metadata": {},
     "output_type": "execute_result"
    }
   ],
   "source": [
    "# Linear Regression\n",
    "x_train1, x_test1, y_train1, y_test1 = train_test_split(x_train,y_train, test_size=0.2)\n",
    "linear_reg = LinearRegression()\n",
    "linear_reg.fit(x_train1, y_train1)"
   ]
  },
  {
   "cell_type": "code",
   "execution_count": 55,
   "metadata": {},
   "outputs": [
    {
     "name": "stdout",
     "output_type": "stream",
     "text": [
      "[ 1.42244609e+01  3.94576281e+00  6.75630186e+00 -1.22194397e+01\n",
      "  3.94864599e-02  2.19223575e+00  1.35045531e-02  4.83529209e-01\n",
      "  0.00000000e+00 -6.60865977e-01]\n"
     ]
    }
   ],
   "source": [
    "print(linear_reg.coef_)"
   ]
  },
  {
   "cell_type": "code",
   "execution_count": 56,
   "metadata": {},
   "outputs": [],
   "source": [
    "y_pred = linear_reg.predict(x_test1)"
   ]
  },
  {
   "cell_type": "code",
   "execution_count": 57,
   "metadata": {},
   "outputs": [
    {
     "name": "stdout",
     "output_type": "stream",
     "text": [
      "root mean Squared Error : 3.3033718199477162\n"
     ]
    }
   ],
   "source": [
    "rmse = np.sqrt(mean_squared_error(y_pred, y_test1))\n",
    "print (\"root mean Squared Error : {}\".format(rmse))"
   ]
  },
  {
   "cell_type": "code",
   "execution_count": null,
   "metadata": {},
   "outputs": [],
   "source": []
  },
  {
   "cell_type": "code",
   "execution_count": null,
   "metadata": {},
   "outputs": [],
   "source": []
  },
  {
   "cell_type": "code",
   "execution_count": null,
   "metadata": {},
   "outputs": [],
   "source": []
  },
  {
   "cell_type": "code",
   "execution_count": null,
   "metadata": {},
   "outputs": [],
   "source": []
  }
 ],
 "metadata": {
  "kernelspec": {
   "display_name": "Python 3",
   "language": "python",
   "name": "python3"
  },
  "language_info": {
   "codemirror_mode": {
    "name": "ipython",
    "version": 3
   },
   "file_extension": ".py",
   "mimetype": "text/x-python",
   "name": "python",
   "nbconvert_exporter": "python",
   "pygments_lexer": "ipython3",
   "version": "3.6.5"
  }
 },
 "nbformat": 4,
 "nbformat_minor": 2
}
